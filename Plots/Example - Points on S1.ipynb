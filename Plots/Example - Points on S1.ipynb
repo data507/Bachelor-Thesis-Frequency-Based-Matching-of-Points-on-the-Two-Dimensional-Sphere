{
 "cells": [
  {
   "cell_type": "code",
   "execution_count": 1,
   "metadata": {},
   "outputs": [],
   "source": [
    "using PyPlot, LaTeXStrings\n",
    "include(\"figsize.jl\")\n",
    "plt.style.use(\"tex.mplstyle\")\n",
    "matplotlib.use(\"pgf\");"
   ]
  },
  {
   "cell_type": "code",
   "execution_count": 2,
   "metadata": {},
   "outputs": [],
   "source": [
    "function draw_rot_arrow(ax, phi, R)\n",
    "    if phi == 0\n",
    "        return\n",
    "    end\n",
    "    \n",
    "    d_phi = .08\n",
    "    t_rot = range(0+.01, phi-d_phi, 200)\n",
    "\n",
    "    ax.plot(R * cos.(t_rot), R * sin.(t_rot), color=:black, lw=.9)\n",
    "    ax.annotate(latexstring(\"\\$\\\\varphi\\$\"), xy=(R * .9 * cos(t_rot[Int64(floor(end/2))]), R * .9 * sin(t_rot[Int64(floor(end/2))])), horizontalalignment=:right, verticalalignment=:center)\n",
    "    ax.arrow(R * cos(phi-.05), R * sin(phi-.05), R * cos(phi) - R * cos(phi-.05), R * sin(phi) - R * sin(phi-.05), shape=\"full\", lw=.1, length_includes_head=true, head_width=.05, head_length=.06, zorder=3, color=:black)\n",
    "end;"
   ]
  },
  {
   "cell_type": "code",
   "execution_count": 3,
   "metadata": {},
   "outputs": [],
   "source": [
    "phi = [0, 1.07, 1.27, 1.47, 2.5, 3.5, 5]\n",
    "t = range(0,2*pi,200);\n",
    "R = 0.8;\n",
    "R_phi = [0, .4, .6, .8]\n",
    "\n",
    "fig, axs = subplots(1, 4, figsize=(size_pt()[1], 2))\n",
    "\n",
    "for (ax,Δ_ϕ) in zip(axs, R_phi)\n",
    "    ax.plot(cos.(t), sin.(t), color=:black, lw=.7)\n",
    "    ax.plot(R * cos.(t), R * sin.(t), color=:black, lw=.7)\n",
    "    \n",
    "\n",
    "    ax.scatter(cos.(phi.+0.8), sin.(phi.+0.8), color=:black, zorder=3, s=25, label=\"U\", linewidths=.7)\n",
    "    ax.scatter(R*cos.(phi .+ Δ_ϕ), R*sin.(phi .+ Δ_ϕ), color=:white, edgecolor=:black, zorder=3, s=25, label=\"V\", linewidths=.7);\n",
    "\n",
    "    draw_rot_arrow(ax,Δ_ϕ, 0.68)\n",
    "\n",
    "    ax.set_aspect(:equal, :box)\n",
    "    ax.spines[:bottom].set_position(:zero)\n",
    "    ax.spines[:left].set_position(:zero)\n",
    "    ax.get_xaxis().set_ticks([])\n",
    "    ax.get_yaxis().set_ticks([])\n",
    "end\n",
    "\n",
    "S = 40\n",
    "axs[2].scatter(cos.(phi[2] .+ 0.8), sin.(phi[2] .+ 0.8), color=:black, s=S, zorder=4, linewidths=.7)\n",
    "axs[2].scatter(R*cos.(phi[4] .+ 0.4), R*sin.(phi[4] .+ 0.4), color=:white, s=S, edgecolor=:black, zorder=4, linewidths=.7)\n",
    "axs[3].scatter(cos.(phi[3] .+ 0.8), sin.(phi[3] .+ 0.8), color=:black, s=S, zorder=4, linewidths=.7)\n",
    "axs[3].scatter(R*cos.(phi[4] .+ 0.6), R*sin.(phi[4] .+ 0.6), color=:white, s=S, edgecolor=:black, zorder=4, linewidths=.7)\n",
    "axs[3].scatter(cos.(phi[2] .+ 0.8), sin.(phi[2] .+ 0.8), color=:black, s=S, zorder=4, linewidths=.7)\n",
    "axs[3].scatter(R*cos.(phi[3] .+ 0.6), R*sin.(phi[3] .+ 0.6), color=:white, s=S, edgecolor=:black, zorder=4, linewidths=.7)\n",
    "axs[4].scatter(cos.(phi.+0.8), sin.(phi.+0.8), color=:black, s = S, zorder=4, linewidths=.7)\n",
    "axs[4].scatter(R*cos.(phi .+ 0.8), R*sin.(phi .+ 0.8), color=:white, edgecolor=:black, s = S, zorder=4, linewidths=.7);\n",
    "\n",
    "handles, labels = axs[1].get_legend_handles_labels()\n",
    "fig.legend(handles, [L\"V\"; L\"R(\\varphi) \\cdot U\"], loc=\"lower center\", ncol=2, handletextpad=-0.2, columnspacing=.5, handleheight=1, frameon=false)\n",
    "\n",
    "\n",
    "fig.tight_layout()\n",
    "fig.subplots_adjust(bottom=0.2)\n",
    "\n",
    "fig.savefig(\"Output/Matching Example for 7 Points on S1.pdf\")"
   ]
  }
 ],
 "metadata": {
  "kernelspec": {
   "display_name": "Julia 1.10.2",
   "language": "julia",
   "name": "julia-1.10"
  },
  "language_info": {
   "file_extension": ".jl",
   "mimetype": "application/julia",
   "name": "julia",
   "version": "1.10.2"
  }
 },
 "nbformat": 4,
 "nbformat_minor": 2
}
