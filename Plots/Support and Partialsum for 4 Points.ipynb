{
 "cells": [
  {
   "cell_type": "code",
   "execution_count": 1,
   "metadata": {},
   "outputs": [],
   "source": [
    "using Rotations, SphericalHarmonics, WignerD, NFFT, LinearAlgebra, StaticArrays, StatsBase\n",
    "using PyPlot, LaTeXStrings\n",
    "include(\"../S2Point.jl\")\n",
    "include(\"../FindRotation.jl\")\n",
    "include(\"S2PlotSupport.jl\")\n",
    "include(\"figsize.jl\")\n",
    "plt.style.use(\"tex.mplstyle\")\n",
    "matplotlib.use(\"pgf\");"
   ]
  },
  {
   "cell_type": "code",
   "execution_count": 2,
   "metadata": {},
   "outputs": [],
   "source": [
    "n = 30\n",
    "B = 15\n",
    "\n",
    "create_grid(grids) = vec(collect.(Iterators.product(grids...)))\n",
    "Rotationgrid = create_grid([range(0,2*pi, n), range(0,pi, n), range(0,2*pi, n)])\n",
    "\n",
    "Wigner_Matrices = [[(wignerD(b, R...)) for b in 0:B] for R in Rotationgrid];"
   ]
  },
  {
   "cell_type": "code",
   "execution_count": 3,
   "metadata": {},
   "outputs": [],
   "source": [
    "N = 3\n",
    "U = [S2Point(.25*pi, 0.6*pi), S2Point(.7*pi, 1.35*pi), S2Point(.15*pi, .75*pi)]\n",
    "R = RotZYZ(4,.7,1)\n",
    "V = R * U;"
   ]
  },
  {
   "cell_type": "code",
   "execution_count": 4,
   "metadata": {},
   "outputs": [],
   "source": [
    "wigner_values = real.(wigner_eval(V, U, B, Wigner_Matrices));"
   ]
  },
  {
   "cell_type": "code",
   "execution_count": 5,
   "metadata": {},
   "outputs": [],
   "source": [
    "normed_wigner_values = (wigner_values .- minimum(wigner_values)) ./ (maximum(wigner_values) - minimum(wigner_values));\n",
    "\n",
    "threshold = .33\n",
    "index_of_wigner_above_threshold = findall(x -> x > threshold, normed_wigner_values)\n",
    "\n",
    "wigner_above_threshold = wigner_values[index_of_wigner_above_threshold]\n",
    "normed_wigner_values_above_threshold = normed_wigner_values[index_of_wigner_above_threshold]\n",
    "Rotationgrid_above_threshold = Rotationgrid[index_of_wigner_above_threshold]\n",
    "\n",
    "Rotationgrid_above_threshold_array = hcat(Rotationgrid_above_threshold...)\n",
    "alpha, beta, gamma = (Rotationgrid_above_threshold_array[1,:], Rotationgrid_above_threshold_array[2,:], Rotationgrid_above_threshold_array[3,:]);\n",
    "\n",
    "renormed_wigner_values_above_threshold = (normed_wigner_values_above_threshold .- threshold) ./ (1 - threshold)\n",
    "sizing = renormed_wigner_values_above_threshold .* 8 .+ .5;"
   ]
  },
  {
   "cell_type": "code",
   "execution_count": 6,
   "metadata": {},
   "outputs": [],
   "source": [
    "I = [[1,3], [2,3], [1,2]]\n",
    "\n",
    "CrossingAngles = zeros(4,3)\n",
    "\n",
    "for k in 1:3\n",
    "    i = I[k]\n",
    "    curve1 = find_support(U[i[1]],V[i[2]],500)\n",
    "    curve2 = find_support(U[i[2]],V[i[1]],500)\n",
    "\n",
    "    Approxmat = [norm(c1 - c2) <.01 for c1 in curve1, c2 in curve2]\n",
    "    Index = findall(x -> x == 1, Approxmat)\n",
    "\n",
    "    CrossingAngles[k,:] = transpose(curve1[Index[1][1]])\n",
    "end\n",
    "\n",
    "curve1 = find_support(U[1],V[1],500)\n",
    "curve2 = find_support(U[2],V[2],500)\n",
    "\n",
    "Approxmat = [norm(c1 - c2) <.01 for c1 in curve1, c2 in curve2]\n",
    "Index = findall(x -> x == 1, Approxmat)\n",
    "\n",
    "CrossingAngles[4,:] = transpose(curve1[Index[1][1]]);"
   ]
  },
  {
   "cell_type": "code",
   "execution_count": 7,
   "metadata": {},
   "outputs": [],
   "source": [
    "matplotlib.pyplot.close()\n",
    "\n",
    "fig = figure(figsize=(size_pt()));\n",
    "gridsp = fig.add_gridspec(2, 2, height_ratios=[12, 1])\n",
    "ax1 = fig.add_subplot(gridsp[1,1], projection=\"3d\")\n",
    "ax2 = fig.add_subplot(gridsp[1,2], projection=\"3d\")\n",
    "ax3 = fig.add_subplot(gridsp[2,1])\n",
    "ax4 = fig.add_subplot(gridsp[2,2])\n",
    "\n",
    "scatterplot = ax1.scatter(alpha, beta, gamma, c=wigner_above_threshold, s=2, cmap=\"inferno\")\n",
    "\n",
    "colorbar = fig.colorbar(scatterplot, ax=ax3, location=\"bottom\", fraction=.53, aspect=16, orientation=:horizontal)\n",
    "colorbar.set_label(latexstring(\"\\$S_{$(B)}[\\\\nu(\\\\omega) \\\\ast \\\\mu(\\\\omega)]\\$\"))\n",
    "\n",
    "\n",
    "draw_support(U, V, 500, ax2);\n",
    "ax2.scatter(CrossingAngles[:,1], CrossingAngles[:,2], CrossingAngles[:,3], s=20, alpha=1, color=:black)\n",
    "\n",
    "ax4.legend(ax2.get_legend_handles_labels()..., loc=\"upper center\", ncol = 3, handlelength=1, borderaxespad=.85, columnspacing=0.5, handletextpad=.2)\n",
    "\n",
    "for ax in [ax1, ax2]\n",
    "    ax.set_xlabel(L\"\\alpha\")\n",
    "    ax.set_ylabel(L\"\\beta\")\n",
    "    ax.set_zlabel(L\"\\gamma\")\n",
    "\n",
    "    ax.set_xlim(0, 2*pi)\n",
    "    ax.set_ylim(0, pi)\n",
    "    ax.set_zlim(0, 2*pi)\n",
    "\n",
    "    ax.xaxis.labelpad = -6\n",
    "    ax.yaxis.labelpad = -4\n",
    "    ax.zaxis.labelpad = -10\n",
    "\n",
    "    ax.tick_params(axis=\"x\", pad=-3)\n",
    "    ax.tick_params(axis=\"y\", pad=-3)\n",
    "    ax.tick_params(axis=\"z\", pad=-3)\n",
    "end\n",
    "ax3.axis(\"off\")\n",
    "ax4.axis(\"off\")\n",
    "\n",
    "fig.tight_layout()\n",
    "fig.subplots_adjust(left=-.015, right=0.97, top=1.085, bottom=0.165, wspace=0.04)\n",
    "\n",
    "fig.savefig(\"Output/Partialsum of Convolution and Support for 4 Points.pdf\")"
   ]
  }
 ],
 "metadata": {
  "kernelspec": {
   "display_name": "Julia 1.10.2",
   "language": "julia",
   "name": "julia-1.10"
  },
  "language_info": {
   "file_extension": ".jl",
   "mimetype": "application/julia",
   "name": "julia",
   "version": "1.10.2"
  }
 },
 "nbformat": 4,
 "nbformat_minor": 2
}
