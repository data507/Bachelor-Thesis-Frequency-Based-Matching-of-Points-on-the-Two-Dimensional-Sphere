{
 "cells": [
  {
   "cell_type": "code",
   "execution_count": 1,
   "metadata": {},
   "outputs": [],
   "source": [
    "using Rotations, SphericalHarmonics, WignerD, NFFT, LinearAlgebra, StaticArrays, StatsBase\n",
    "include(\"S2Point.jl\")\n",
    "include(\"FindRotation.jl\");"
   ]
  },
  {
   "cell_type": "code",
   "execution_count": 2,
   "metadata": {},
   "outputs": [],
   "source": [
    "## Construct set of Points U and V such that V = R * U\n",
    "N = 30\n",
    "U = randS2(N)\n",
    "R_0 = RotZYZ(2 * pi * rand(), pi * rand(), 2 * pi * rand())\n",
    "V = R_0 * U\n",
    "V = sample(V, N, replace=false);"
   ]
  },
  {
   "cell_type": "code",
   "execution_count": 3,
   "metadata": {},
   "outputs": [
    {
     "name": "stdout",
     "output_type": "stream",
     "text": [
      "  2.079446 seconds (1.13 M allocations: 223.194 MiB, 3.34% gc time, 85.49% compilation time: 2% of which was recompilation)\n",
      "Correct Rotation found (within given tolerance): true\n",
      "Accuracy by Rotation Angle: -3.705571360868021e-8\n"
     ]
    }
   ],
   "source": [
    "@time rot_by_FindRotation_general = FindRotation_general(U, V, 50, 10000)\n",
    "println(\"Correct Rotation found (within given tolerance): $(isapprox(rot_by_FindRotation_general, R_0, atol=1e-6))\")\n",
    "println(\"Accuracy by Rotation Angle: $(rotation_angle(rot_by_FindRotation_general) - rotation_angle(R_0))\")"
   ]
  },
  {
   "cell_type": "code",
   "execution_count": 4,
   "metadata": {},
   "outputs": [
    {
     "name": "stdout",
     "output_type": "stream",
     "text": [
      "  0.001110 seconds (4.81 k allocations: 587.047 KiB)\n",
      "Correct Rotation found: true\n",
      "Accuracy by Rotation Angle: 1.7763568394002505e-15\n"
     ]
    }
   ],
   "source": [
    "@time rot_by_FindRotation = FindRotation(U, V)\n",
    "println(\"Correct Rotation found: $(rot_by_FindRotation ≈ R_0)\")\n",
    "println(\"Accuracy by Rotation Angle: $(rotation_angle(rot_by_FindRotation) - rotation_angle(R_0))\")"
   ]
  },
  {
   "cell_type": "code",
   "execution_count": 5,
   "metadata": {},
   "outputs": [
    {
     "name": "stdout",
     "output_type": "stream",
     "text": [
      "  0.000437 seconds (542 allocations: 72.516 KiB)\n",
      "Correct Rotation found: true\n",
      "Accuracy by Rotation Angle: 3.1086244689504383e-15\n"
     ]
    }
   ],
   "source": [
    "@time rot_by_FastFindRotation = FastFindRotation(U, V)\n",
    "println(\"Correct Rotation found: $(rot_by_FastFindRotation ≈ R_0)\")\n",
    "println(\"Accuracy by Rotation Angle: $(rotation_angle(rot_by_FastFindRotation) - rotation_angle(R_0))\")"
   ]
  }
 ],
 "metadata": {
  "kernelspec": {
   "display_name": "Julia 1.10.2",
   "language": "julia",
   "name": "julia-1.10"
  },
  "language_info": {
   "file_extension": ".jl",
   "mimetype": "application/julia",
   "name": "julia",
   "version": "1.10.2"
  }
 },
 "nbformat": 4,
 "nbformat_minor": 2
}
